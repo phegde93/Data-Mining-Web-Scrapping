{
 "cells": [
  {
   "cell_type": "code",
   "execution_count": 1,
   "id": "68c1de92",
   "metadata": {},
   "outputs": [],
   "source": [
    "import os\n",
    "import pandas as pd\n",
    "from selenium import webdriver\n",
    "import getpass \n",
    "import requests\n",
    "from bs4 import BeautifulSoup\n",
    "import time\n",
    "from selenium.webdriver.support.ui import WebDriverWait\n",
    "from selenium.webdriver.common.by import By\n",
    "from selenium.webdriver.support import expected_conditions as EC\n",
    "from selenium.webdriver.chrome.service import Service"
   ]
  },
  {
   "cell_type": "code",
   "execution_count": 2,
   "id": "f7d5e518",
   "metadata": {},
   "outputs": [
    {
     "data": {
      "text/plain": [
       "'C:\\\\Users\\\\prasa'"
      ]
     },
     "execution_count": 2,
     "metadata": {},
     "output_type": "execute_result"
    }
   ],
   "source": [
    "os.getcwd()"
   ]
  },
  {
   "cell_type": "code",
   "execution_count": 3,
   "id": "3ef0ea1a",
   "metadata": {},
   "outputs": [
    {
     "name": "stdout",
     "output_type": "stream",
     "text": [
      "Enter user name: prasadganeshhegdeusf@gmail.com\n",
      "Enter Password : ········\n"
     ]
    }
   ],
   "source": [
    "user_id = str(input(\"Enter user name: \"))\n",
    "password = getpass.getpass(\"Enter Password : \")"
   ]
  },
  {
   "cell_type": "code",
   "execution_count": 4,
   "id": "d5399d6c",
   "metadata": {},
   "outputs": [
    {
     "name": "stderr",
     "output_type": "stream",
     "text": [
      "<ipython-input-4-117f2f9575c0>:4: DeprecationWarning: find_element_by_* commands are deprecated. Please use find_element() instead\n",
      "  user_name = driver.find_element_by_id(\"username\")\n",
      "<ipython-input-4-117f2f9575c0>:6: DeprecationWarning: find_element_by_* commands are deprecated. Please use find_element() instead\n",
      "  credential = driver.find_element_by_id(\"password\")\n",
      "<ipython-input-4-117f2f9575c0>:9: DeprecationWarning: find_element_by_* commands are deprecated. Please use find_element() instead\n",
      "  signin = driver.find_element_by_class_name(\"login__form_action_container\")\n",
      "<ipython-input-4-117f2f9575c0>:18: DeprecationWarning: find_element_by_* commands are deprecated. Please use find_element() instead\n",
      "  search_bar = driver.find_element_by_class_name(\"jobs-search-box__text-input\")\n",
      "<ipython-input-4-117f2f9575c0>:24: DeprecationWarning: find_element_by_* commands are deprecated. Please use find_element() instead\n",
      "  search_bar_location = driver.find_element_by_id(\"jobs-search-box-location-id-ember32\").send_keys(location)\n",
      "<ipython-input-4-117f2f9575c0>:28: DeprecationWarning: find_element_by_* commands are deprecated. Please use find_element() instead\n",
      "  submit_button = driver.find_element_by_class_name(\"jobs-search-box__submit-button\")\n",
      "<ipython-input-4-117f2f9575c0>:34: DeprecationWarning: find_element_by_* commands are deprecated. Please use find_element() instead\n",
      "  past_24_hours = driver.find_element_by_class_name(\"search-reusables__pill-button-caret-icon\")\n",
      "<ipython-input-4-117f2f9575c0>:43: DeprecationWarning: find_element_by_* commands are deprecated. Please use find_element() instead\n",
      "  past_24_hours = driver.find_element_by_class_name(\"search-reusables__pill-button-caret-icon\")\n"
     ]
    }
   ],
   "source": [
    "driver = webdriver.Chrome()\n",
    "driver.get(\"https://www.linkedin.com/login\")\n",
    "time.sleep(2)\n",
    "user_name = driver.find_element_by_id(\"username\")\n",
    "user_name.send_keys(user_id)\n",
    "credential = driver.find_element_by_id(\"password\")\n",
    "credential.send_keys(password)\n",
    "time.sleep(2)\n",
    "signin = driver.find_element_by_class_name(\"login__form_action_container\")\n",
    "signin.click()\n",
    "time.sleep(2)\n",
    "\n",
    "\n",
    "#Job page\n",
    "driver.get(\"https://www.linkedin.com/jobs/\")\n",
    "time.sleep(2)\n",
    "skill = \"data Analyst\"\n",
    "search_bar = driver.find_element_by_class_name(\"jobs-search-box__text-input\")\n",
    "time.sleep(1)\n",
    "search_bar.send_keys(skill)\n",
    "time.sleep(2)\n",
    "#location\n",
    "location = \"United States\"\n",
    "search_bar_location = driver.find_element_by_id(\"jobs-search-box-location-id-ember32\").send_keys(location)\n",
    "time.sleep(2)\n",
    "\n",
    "#enter Search\n",
    "submit_button = driver.find_element_by_class_name(\"jobs-search-box__submit-button\")\n",
    "submit_button.click()\n",
    "time.sleep(2)\n",
    "\n",
    "\n",
    "# Filter job posting for past 24 hours\n",
    "past_24_hours = driver.find_element_by_class_name(\"search-reusables__pill-button-caret-icon\")\n",
    "past_24_hours.click()\n",
    "\n",
    "\n",
    "p_24_hours=WebDriverWait(driver, 20).until(EC.element_to_be_clickable((By.XPATH, \"//label[@for='timePostedRange-r86400']\")))\n",
    "p_24_hours.click()\n",
    "time.sleep(2)\n",
    "\n",
    "\n",
    "past_24_hours = driver.find_element_by_class_name(\"search-reusables__pill-button-caret-icon\")\n",
    "past_24_hours.click()\n",
    "time.sleep(2)\n"
   ]
  },
  {
   "cell_type": "code",
   "execution_count": 5,
   "id": "b77cd52e",
   "metadata": {},
   "outputs": [],
   "source": [
    "def get_details(i):\n",
    "       \n",
    "    try:\n",
    "              \n",
    "        first_element_link = i.find_element_by_class_name(\"job-card-list__title\").text\n",
    "    except:\n",
    "        pass   \n",
    "    else:\n",
    "        #Scroll to next job link and click the job link\n",
    "        # here i am getting the href for each job link\n",
    "        driver.find_element_by_link_text(first_element_link).click()\n",
    "        # and once it is clicked i am fetching required information from jobs-details__main-content which is displayed on the \n",
    "        # right side of the page whihc has all the info of particular job list\n",
    "        main_content = driver.find_element_by_class_name(\"jobs-details__main-content\")\n",
    "        title = main_content.find_element_by_class_name(\"t-24\").text\n",
    "        com = main_content.find_element_by_class_name(\"mt2\")\n",
    "        company = com.find_element_by_class_name(\"ember-view\").text\n",
    "        location = com.find_element_by_class_name(\"jobs-unified-top-card__bullet\").text\n",
    "        return{\n",
    "            \"Job_Title\":title,\n",
    "            \"Company\":company,\n",
    "            \"location\":location\n",
    "        }\n",
    "        "
   ]
  },
  {
   "cell_type": "code",
   "execution_count": 6,
   "id": "713f1a29",
   "metadata": {},
   "outputs": [
    {
     "name": "stderr",
     "output_type": "stream",
     "text": [
      "<ipython-input-6-0e0e3d114e1c>:1: DeprecationWarning: find_elements_by_* commands are deprecated. Please use find_elements() instead\n",
      "  list_items = driver.find_elements_by_class_name(\"occludable-update\")\n"
     ]
    }
   ],
   "source": [
    "list_items = driver.find_elements_by_class_name(\"occludable-update\")"
   ]
  },
  {
   "cell_type": "code",
   "execution_count": 7,
   "id": "60f3b6b6",
   "metadata": {},
   "outputs": [
    {
     "name": "stderr",
     "output_type": "stream",
     "text": [
      "C:\\Users\\prasa\\anaconda3\\lib\\site-packages\\selenium\\webdriver\\remote\\webelement.py:446: UserWarning: find_element_by_* commands are deprecated. Please use find_element() instead\n",
      "  warnings.warn(\"find_element_by_* commands are deprecated. Please use find_element() instead\")\n",
      "<ipython-input-5-eddcb9fcb50d>:11: DeprecationWarning: find_element_by_* commands are deprecated. Please use find_element() instead\n",
      "  driver.find_element_by_link_text(first_element_link).click()\n",
      "<ipython-input-5-eddcb9fcb50d>:14: DeprecationWarning: find_element_by_* commands are deprecated. Please use find_element() instead\n",
      "  main_content = driver.find_element_by_class_name(\"jobs-details__main-content\")\n"
     ]
    }
   ],
   "source": [
    "job_details = [get_details(i) for i in list_items]"
   ]
  },
  {
   "cell_type": "code",
   "execution_count": null,
   "id": "79e966e0",
   "metadata": {},
   "outputs": [],
   "source": [
    "job_details"
   ]
  },
  {
   "cell_type": "code",
   "execution_count": null,
   "id": "1a50943c",
   "metadata": {},
   "outputs": [],
   "source": []
  },
  {
   "cell_type": "code",
   "execution_count": null,
   "id": "5024361b",
   "metadata": {},
   "outputs": [],
   "source": []
  },
  {
   "cell_type": "code",
   "execution_count": null,
   "id": "a1e4d6b1",
   "metadata": {},
   "outputs": [],
   "source": []
  },
  {
   "cell_type": "code",
   "execution_count": null,
   "id": "3d6dfd33",
   "metadata": {},
   "outputs": [],
   "source": []
  },
  {
   "cell_type": "code",
   "execution_count": null,
   "id": "9bb3f9d8",
   "metadata": {},
   "outputs": [],
   "source": []
  },
  {
   "cell_type": "code",
   "execution_count": null,
   "id": "36dada16",
   "metadata": {},
   "outputs": [],
   "source": []
  },
  {
   "cell_type": "code",
   "execution_count": null,
   "id": "6dc6e0cb",
   "metadata": {},
   "outputs": [],
   "source": []
  },
  {
   "cell_type": "code",
   "execution_count": null,
   "id": "4303c8ab",
   "metadata": {},
   "outputs": [],
   "source": []
  },
  {
   "cell_type": "code",
   "execution_count": null,
   "id": "b3c50b21",
   "metadata": {},
   "outputs": [],
   "source": []
  },
  {
   "cell_type": "code",
   "execution_count": null,
   "id": "96f82d8d",
   "metadata": {},
   "outputs": [],
   "source": []
  },
  {
   "cell_type": "code",
   "execution_count": null,
   "id": "c53f1370",
   "metadata": {},
   "outputs": [],
   "source": []
  },
  {
   "cell_type": "code",
   "execution_count": null,
   "id": "daa63a93",
   "metadata": {},
   "outputs": [],
   "source": []
  },
  {
   "cell_type": "code",
   "execution_count": null,
   "id": "78d33954",
   "metadata": {},
   "outputs": [],
   "source": []
  },
  {
   "cell_type": "code",
   "execution_count": null,
   "id": "ceda8171",
   "metadata": {},
   "outputs": [],
   "source": []
  },
  {
   "cell_type": "code",
   "execution_count": null,
   "id": "05fc258a",
   "metadata": {},
   "outputs": [],
   "source": []
  },
  {
   "cell_type": "code",
   "execution_count": null,
   "id": "6bcf7f92",
   "metadata": {},
   "outputs": [],
   "source": []
  },
  {
   "cell_type": "code",
   "execution_count": null,
   "id": "c31d2ed3",
   "metadata": {},
   "outputs": [],
   "source": []
  },
  {
   "cell_type": "code",
   "execution_count": null,
   "id": "50ee0f1b",
   "metadata": {},
   "outputs": [],
   "source": []
  },
  {
   "cell_type": "code",
   "execution_count": null,
   "id": "45c00d3f",
   "metadata": {},
   "outputs": [],
   "source": []
  },
  {
   "cell_type": "code",
   "execution_count": null,
   "id": "f1c47fb1",
   "metadata": {},
   "outputs": [],
   "source": []
  },
  {
   "cell_type": "code",
   "execution_count": null,
   "id": "ef0d42e9",
   "metadata": {},
   "outputs": [],
   "source": []
  },
  {
   "cell_type": "code",
   "execution_count": null,
   "id": "c800fc7f",
   "metadata": {},
   "outputs": [],
   "source": []
  },
  {
   "cell_type": "code",
   "execution_count": null,
   "id": "39e9cd8a",
   "metadata": {},
   "outputs": [],
   "source": []
  },
  {
   "cell_type": "code",
   "execution_count": null,
   "id": "bfd100bf",
   "metadata": {},
   "outputs": [],
   "source": []
  },
  {
   "cell_type": "code",
   "execution_count": null,
   "id": "473a5b74",
   "metadata": {},
   "outputs": [],
   "source": []
  },
  {
   "cell_type": "code",
   "execution_count": null,
   "id": "1d87cfd7",
   "metadata": {},
   "outputs": [],
   "source": []
  },
  {
   "cell_type": "code",
   "execution_count": null,
   "id": "5f470cff",
   "metadata": {},
   "outputs": [],
   "source": []
  },
  {
   "cell_type": "code",
   "execution_count": null,
   "id": "ce7f52bb",
   "metadata": {},
   "outputs": [],
   "source": []
  },
  {
   "cell_type": "code",
   "execution_count": null,
   "id": "0808daa1",
   "metadata": {},
   "outputs": [],
   "source": []
  },
  {
   "cell_type": "code",
   "execution_count": null,
   "id": "f160b659",
   "metadata": {},
   "outputs": [],
   "source": []
  },
  {
   "cell_type": "code",
   "execution_count": null,
   "id": "59437f56",
   "metadata": {},
   "outputs": [],
   "source": []
  },
  {
   "cell_type": "code",
   "execution_count": null,
   "id": "6844c2e4",
   "metadata": {},
   "outputs": [],
   "source": []
  },
  {
   "cell_type": "code",
   "execution_count": null,
   "id": "68b737ff",
   "metadata": {},
   "outputs": [],
   "source": []
  },
  {
   "cell_type": "code",
   "execution_count": null,
   "id": "26e4289e",
   "metadata": {},
   "outputs": [],
   "source": []
  },
  {
   "cell_type": "code",
   "execution_count": null,
   "id": "316ccb25",
   "metadata": {},
   "outputs": [],
   "source": []
  },
  {
   "cell_type": "code",
   "execution_count": null,
   "id": "8294beda",
   "metadata": {},
   "outputs": [],
   "source": []
  },
  {
   "cell_type": "code",
   "execution_count": null,
   "id": "42f4cb20",
   "metadata": {},
   "outputs": [],
   "source": []
  },
  {
   "cell_type": "code",
   "execution_count": null,
   "id": "69a3c30b",
   "metadata": {},
   "outputs": [],
   "source": []
  },
  {
   "cell_type": "code",
   "execution_count": null,
   "id": "60313e9d",
   "metadata": {},
   "outputs": [],
   "source": []
  },
  {
   "cell_type": "code",
   "execution_count": null,
   "id": "f7c3af5b",
   "metadata": {},
   "outputs": [],
   "source": []
  },
  {
   "cell_type": "code",
   "execution_count": null,
   "id": "98d3da8a",
   "metadata": {},
   "outputs": [],
   "source": []
  },
  {
   "cell_type": "code",
   "execution_count": null,
   "id": "2f18475e",
   "metadata": {},
   "outputs": [],
   "source": []
  },
  {
   "cell_type": "code",
   "execution_count": null,
   "id": "81263c39",
   "metadata": {},
   "outputs": [],
   "source": []
  },
  {
   "cell_type": "code",
   "execution_count": null,
   "id": "ac95a21b",
   "metadata": {},
   "outputs": [],
   "source": []
  },
  {
   "cell_type": "code",
   "execution_count": null,
   "id": "68b2785e",
   "metadata": {},
   "outputs": [],
   "source": []
  },
  {
   "cell_type": "code",
   "execution_count": null,
   "id": "e3bba643",
   "metadata": {},
   "outputs": [],
   "source": []
  },
  {
   "cell_type": "code",
   "execution_count": null,
   "id": "7f0e5064",
   "metadata": {},
   "outputs": [],
   "source": []
  },
  {
   "cell_type": "code",
   "execution_count": null,
   "id": "84a2571a",
   "metadata": {},
   "outputs": [],
   "source": []
  },
  {
   "cell_type": "code",
   "execution_count": null,
   "id": "d84d8728",
   "metadata": {},
   "outputs": [],
   "source": []
  },
  {
   "cell_type": "code",
   "execution_count": null,
   "id": "ca709ea8",
   "metadata": {},
   "outputs": [],
   "source": []
  },
  {
   "cell_type": "code",
   "execution_count": null,
   "id": "cb289a5b",
   "metadata": {},
   "outputs": [],
   "source": []
  },
  {
   "cell_type": "code",
   "execution_count": null,
   "id": "975136ab",
   "metadata": {},
   "outputs": [],
   "source": []
  },
  {
   "cell_type": "code",
   "execution_count": null,
   "id": "f31f9727",
   "metadata": {},
   "outputs": [],
   "source": []
  },
  {
   "cell_type": "code",
   "execution_count": null,
   "id": "42f8c409",
   "metadata": {},
   "outputs": [],
   "source": []
  },
  {
   "cell_type": "code",
   "execution_count": null,
   "id": "ee1990bb",
   "metadata": {},
   "outputs": [],
   "source": []
  },
  {
   "cell_type": "code",
   "execution_count": null,
   "id": "adba1fcc",
   "metadata": {},
   "outputs": [],
   "source": []
  },
  {
   "cell_type": "code",
   "execution_count": null,
   "id": "36382518",
   "metadata": {},
   "outputs": [],
   "source": []
  },
  {
   "cell_type": "code",
   "execution_count": null,
   "id": "6f97da96",
   "metadata": {},
   "outputs": [],
   "source": []
  },
  {
   "cell_type": "code",
   "execution_count": null,
   "id": "df8e12eb",
   "metadata": {},
   "outputs": [],
   "source": []
  },
  {
   "cell_type": "code",
   "execution_count": null,
   "id": "a12ce781",
   "metadata": {},
   "outputs": [],
   "source": []
  },
  {
   "cell_type": "code",
   "execution_count": null,
   "id": "ec6c6b9c",
   "metadata": {},
   "outputs": [],
   "source": []
  },
  {
   "cell_type": "code",
   "execution_count": null,
   "id": "f35f4382",
   "metadata": {},
   "outputs": [],
   "source": []
  },
  {
   "cell_type": "code",
   "execution_count": null,
   "id": "be49a731",
   "metadata": {},
   "outputs": [],
   "source": []
  },
  {
   "cell_type": "code",
   "execution_count": null,
   "id": "8bce74f5",
   "metadata": {},
   "outputs": [],
   "source": []
  },
  {
   "cell_type": "code",
   "execution_count": null,
   "id": "daac149f",
   "metadata": {},
   "outputs": [],
   "source": []
  },
  {
   "cell_type": "code",
   "execution_count": null,
   "id": "4eed4e6d",
   "metadata": {},
   "outputs": [],
   "source": []
  },
  {
   "cell_type": "code",
   "execution_count": null,
   "id": "5509ee85",
   "metadata": {},
   "outputs": [],
   "source": []
  },
  {
   "cell_type": "code",
   "execution_count": null,
   "id": "7db77ae3",
   "metadata": {},
   "outputs": [],
   "source": []
  },
  {
   "cell_type": "code",
   "execution_count": null,
   "id": "c27bec7e",
   "metadata": {},
   "outputs": [],
   "source": []
  },
  {
   "cell_type": "code",
   "execution_count": null,
   "id": "c100242e",
   "metadata": {},
   "outputs": [],
   "source": []
  }
 ],
 "metadata": {
  "kernelspec": {
   "display_name": "Python 3",
   "language": "python",
   "name": "python3"
  },
  "language_info": {
   "codemirror_mode": {
    "name": "ipython",
    "version": 3
   },
   "file_extension": ".py",
   "mimetype": "text/x-python",
   "name": "python",
   "nbconvert_exporter": "python",
   "pygments_lexer": "ipython3",
   "version": "3.8.8"
  }
 },
 "nbformat": 4,
 "nbformat_minor": 5
}

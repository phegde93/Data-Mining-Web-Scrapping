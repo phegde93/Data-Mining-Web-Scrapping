{
 "cells": [
  {
   "cell_type": "markdown",
   "id": "ed9e11eb",
   "metadata": {},
   "source": [
    "##### Aim Of the Project is to get the product name, new price, old price and number of reviews of a product from Amazon product page\n",
    "##### This Project illustrate how to Navigate to next page from current page Dynamically (Without using url for next page) and i have scraped product information of 20 pages.\n",
    "\n",
    "#### First Page URL (Headset page) - https://www.amazon.com/s?k=headphones&crid=T7DXZT5BZT92&qid=1637732331&sprefix=head%2Caps%2C203"
   ]
  },
  {
   "cell_type": "code",
   "execution_count": 1,
   "id": "8d635e0e",
   "metadata": {},
   "outputs": [],
   "source": [
    "!pip install requests --quiet\n",
    "!pip install bs4 --quiet"
   ]
  },
  {
   "cell_type": "markdown",
   "id": "a134d3ab",
   "metadata": {},
   "source": [
    "### Loading the Required packages"
   ]
  },
  {
   "cell_type": "code",
   "execution_count": 2,
   "id": "b9ac18a6",
   "metadata": {},
   "outputs": [],
   "source": [
    "import requests\n",
    "from bs4 import BeautifulSoup\n",
    "import pandas as pd"
   ]
  },
  {
   "cell_type": "markdown",
   "id": "958b743b",
   "metadata": {},
   "source": [
    "#### Adding user-agent and this can be found in https://httpbin.org/get"
   ]
  },
  {
   "cell_type": "code",
   "execution_count": 3,
   "id": "1e30798c",
   "metadata": {},
   "outputs": [],
   "source": [
    "headers = {\"User-Agent\":\"Mozilla/5.0 (Windows NT 10.0; Win64; x64) AppleWebKit/537.36 (KHTML, like Gecko) Chrome/96.0.4664.45 Safari/537.36 Edg/96.0.1054.29\", \"Accept-Encoding\":\"gzip, deflate\", \"Accept\":\"text/html,application/xhtml+xml,application/xml;q=0.9,*/*;q=0.8\", \"DNT\":\"1\",\"Connection\":\"close\", \"Upgrade-Insecure-Requests\":\"1\"}"
   ]
  },
  {
   "cell_type": "markdown",
   "id": "5e186ca3",
   "metadata": {},
   "source": [
    "#### First Page URL and Base URL Respectively "
   ]
  },
  {
   "cell_type": "code",
   "execution_count": 4,
   "id": "98618db7",
   "metadata": {},
   "outputs": [],
   "source": [
    "base_url =\"https://www.amazon.com/s?k=headphones&crid=T7DXZT5BZT92&qid=1637732331&sprefix=head%2Caps%2C203\"\n",
    "base = \"https://www.amazon.com\""
   ]
  },
  {
   "cell_type": "markdown",
   "id": "555ddd40",
   "metadata": {},
   "source": [
    "#### Function to get the each page content passing different URL "
   ]
  },
  {
   "cell_type": "code",
   "execution_count": 5,
   "id": "90281e6f",
   "metadata": {},
   "outputs": [],
   "source": [
    "def get_doc(url):\n",
    "    response = requests.get(url,headers=headers)\n",
    "    print(response.status_code)\n",
    "    if response.ok:\n",
    "        with open(\"amazon_html_page.html\", \"a\",encoding='utf8') as file:\n",
    "            file.write(response.text)\n",
    "        doc = BeautifulSoup(response.text, \"html.parser\")\n",
    "        return doc"
   ]
  },
  {
   "cell_type": "markdown",
   "id": "d888b7cd",
   "metadata": {},
   "source": [
    "#### Function to get different Page URL Dynamically"
   ]
  },
  {
   "cell_type": "code",
   "execution_count": 6,
   "id": "b506905a",
   "metadata": {},
   "outputs": [],
   "source": [
    "def getnextpage(doc):\n",
    "    page = doc.find(\"ul\",class_ = \"a-pagination\")\n",
    "    if not page.find(\"li\", class_ = \"a-disabled a-last\"):\n",
    "        url = base+str(page.find(\"li\",class_=\"a-last\").find(\"a\")[\"href\"])\n",
    "        print(url)\n",
    "        return url\n",
    "    else:\n",
    "        return"
   ]
  },
  {
   "cell_type": "markdown",
   "id": "8b17e2fc",
   "metadata": {},
   "source": [
    "#### Function to get required information from each page"
   ]
  },
  {
   "cell_type": "code",
   "execution_count": 18,
   "id": "d8a21bc7",
   "metadata": {},
   "outputs": [],
   "source": [
    "def web_scrap_data(content):\n",
    "    h2_tag = content.find(\"h2\")\n",
    "    product_name = h2_tag.text.strip()\n",
    "    price = content.find_all(\"span\", class_=\"a-price\")\n",
    "    if len(price) > 0:\n",
    "        new_price = price[0].find(\"span\",class_ =\"a-offscreen\").text.strip()\n",
    "    else:\n",
    "        new_price = \"Not Specified\"\n",
    "    if len(price) > 1:\n",
    "        old_price = price[1].find(\"span\",class_ =\"a-offscreen\").text.strip()\n",
    "    else:\n",
    "        old_price = \"Not Specified\"\n",
    "    n_reviews = content.find(\"span\", class_=\"a-size-base\")\n",
    "    try:\n",
    "        n_reviews = n_reviews.text.strip()\n",
    "    except:\n",
    "        n_reviews = \"0\"\n",
    "#     n_reviews = n_reviews.string.replace(\",\",\"\")\n",
    "#     n_reviews = int(n_reviews)\n",
    "    return {\n",
    "        \"Product_name\":product_name,\n",
    "        \"New_price\": new_price,\n",
    "        \"Old_price\":old_price,\n",
    "        \"Number_of_reviews\":n_reviews\n",
    "    }"
   ]
  },
  {
   "cell_type": "markdown",
   "id": "cac190a1",
   "metadata": {},
   "source": [
    "#### Function to get the container which have all the required information"
   ]
  },
  {
   "cell_type": "code",
   "execution_count": 8,
   "id": "b9271796",
   "metadata": {},
   "outputs": [],
   "source": [
    "def get_content(doc):\n",
    "    return (doc.find_all(\"div\", class_=\"s-result-item s-asin sg-col-0-of-12 sg-col-16-of-20 sg-col s-widget-spacing-small sg-col-12-of-16\"))"
   ]
  },
  {
   "cell_type": "code",
   "execution_count": 19,
   "id": "74d3afd9",
   "metadata": {},
   "outputs": [
    {
     "name": "stdout",
     "output_type": "stream",
     "text": [
      "200\n",
      "https://www.amazon.com/s?k=headphones&page=2&crid=T7DXZT5BZT92&qid=1637997263&sprefix=head%2Caps%2C203&ref=sr_pg_1\n",
      "200\n",
      "https://www.amazon.com/s?k=headphones&page=3&crid=T7DXZT5BZT92&qid=1637997265&sprefix=head%2Caps%2C203&ref=sr_pg_2\n",
      "200\n",
      "https://www.amazon.com/s?k=headphones&page=4&crid=T7DXZT5BZT92&qid=1637997267&sprefix=head%2Caps%2C203&ref=sr_pg_3\n",
      "200\n",
      "https://www.amazon.com/s?k=headphones&page=5&crid=T7DXZT5BZT92&qid=1637997268&sprefix=head%2Caps%2C203&ref=sr_pg_4\n",
      "200\n",
      "https://www.amazon.com/s?k=headphones&page=6&crid=T7DXZT5BZT92&qid=1637997270&sprefix=head%2Caps%2C203&ref=sr_pg_5\n",
      "200\n",
      "https://www.amazon.com/s?k=headphones&page=7&crid=T7DXZT5BZT92&qid=1637997272&sprefix=head%2Caps%2C203&ref=sr_pg_6\n",
      "200\n",
      "https://www.amazon.com/s?k=headphones&page=8&crid=T7DXZT5BZT92&qid=1637997273&sprefix=head%2Caps%2C203&ref=sr_pg_7\n",
      "200\n",
      "https://www.amazon.com/s?k=headphones&page=9&crid=T7DXZT5BZT92&qid=1637997275&sprefix=head%2Caps%2C203&ref=sr_pg_8\n",
      "200\n",
      "https://www.amazon.com/s?k=headphones&page=10&crid=T7DXZT5BZT92&qid=1637997277&sprefix=head%2Caps%2C203&ref=sr_pg_9\n",
      "200\n",
      "https://www.amazon.com/s?k=headphones&page=11&crid=T7DXZT5BZT92&qid=1637997278&sprefix=head%2Caps%2C203&ref=sr_pg_10\n",
      "200\n",
      "https://www.amazon.com/s?k=headphones&page=12&crid=T7DXZT5BZT92&qid=1637997280&sprefix=head%2Caps%2C203&ref=sr_pg_11\n",
      "200\n",
      "https://www.amazon.com/s?k=headphones&page=13&crid=T7DXZT5BZT92&qid=1637997282&sprefix=head%2Caps%2C203&ref=sr_pg_12\n",
      "200\n",
      "https://www.amazon.com/s?k=headphones&page=14&crid=T7DXZT5BZT92&qid=1637997284&sprefix=head%2Caps%2C203&ref=sr_pg_13\n",
      "200\n",
      "https://www.amazon.com/s?k=headphones&page=15&crid=T7DXZT5BZT92&qid=1637997286&sprefix=head%2Caps%2C203&ref=sr_pg_14\n",
      "200\n",
      "https://www.amazon.com/s?k=headphones&page=16&crid=T7DXZT5BZT92&qid=1637997287&sprefix=head%2Caps%2C203&ref=sr_pg_15\n",
      "200\n",
      "https://www.amazon.com/s?k=headphones&page=17&crid=T7DXZT5BZT92&qid=1637997289&sprefix=head%2Caps%2C203&ref=sr_pg_16\n",
      "200\n",
      "https://www.amazon.com/s?k=headphones&page=18&crid=T7DXZT5BZT92&qid=1637997291&sprefix=head%2Caps%2C203&ref=sr_pg_17\n",
      "200\n",
      "https://www.amazon.com/s?k=headphones&page=19&crid=T7DXZT5BZT92&qid=1637997293&sprefix=head%2Caps%2C203&ref=sr_pg_18\n",
      "200\n",
      "https://www.amazon.com/s?k=headphones&page=20&crid=T7DXZT5BZT92&qid=1637997294&sprefix=head%2Caps%2C203&ref=sr_pg_19\n",
      "200\n"
     ]
    }
   ],
   "source": [
    "url = base_url\n",
    "link_list = []\n",
    "count = 0\n",
    "while True:\n",
    "    doc = get_doc(url)\n",
    "    page_content = get_content(doc)\n",
    "    amazon_headset = [web_scrap_data(content) for content in page_content]\n",
    "    if count ==0:\n",
    "        product = pd.DataFrame.from_dict(amazon_headset)\n",
    "    else:\n",
    "        product = pd.concat((product,pd.DataFrame.from_dict(amazon_headset)),axis=0)\n",
    "    url = getnextpage(doc)\n",
    "    if not url:\n",
    "        break\n",
    "    else:\n",
    "        count+=1"
   ]
  },
  {
   "cell_type": "code",
   "execution_count": 21,
   "id": "1dd5ac03",
   "metadata": {},
   "outputs": [],
   "source": [
    "product.to_csv(\"Product_Details.csv\",index=False)"
   ]
  },
  {
   "cell_type": "code",
   "execution_count": 20,
   "id": "9ec8e13c",
   "metadata": {},
   "outputs": [
    {
     "data": {
      "text/html": [
       "<div>\n",
       "<style scoped>\n",
       "    .dataframe tbody tr th:only-of-type {\n",
       "        vertical-align: middle;\n",
       "    }\n",
       "\n",
       "    .dataframe tbody tr th {\n",
       "        vertical-align: top;\n",
       "    }\n",
       "\n",
       "    .dataframe thead th {\n",
       "        text-align: right;\n",
       "    }\n",
       "</style>\n",
       "<table border=\"1\" class=\"dataframe\">\n",
       "  <thead>\n",
       "    <tr style=\"text-align: right;\">\n",
       "      <th></th>\n",
       "      <th>Product_name</th>\n",
       "      <th>New_price</th>\n",
       "      <th>Old_price</th>\n",
       "      <th>Number_of_reviews</th>\n",
       "    </tr>\n",
       "  </thead>\n",
       "  <tbody>\n",
       "    <tr>\n",
       "      <th>0</th>\n",
       "      <td>JBL Live 460NC - Wireless On-Ear Noise Cancell...</td>\n",
       "      <td>$64.95</td>\n",
       "      <td>$129.95</td>\n",
       "      <td>105</td>\n",
       "    </tr>\n",
       "    <tr>\n",
       "      <th>1</th>\n",
       "      <td>Sony WH-1000XM4 Wireless Industry Leading Nois...</td>\n",
       "      <td>$248.00</td>\n",
       "      <td>$348.00</td>\n",
       "      <td>24,263</td>\n",
       "    </tr>\n",
       "    <tr>\n",
       "      <th>2</th>\n",
       "      <td>JBL TUNE 500 - Wired On-Ear Headphones - Black</td>\n",
       "      <td>$19.95</td>\n",
       "      <td>$29.95</td>\n",
       "      <td>1,995</td>\n",
       "    </tr>\n",
       "    <tr>\n",
       "      <th>3</th>\n",
       "      <td>Sony ZX Series Wired On-Ear Headphones, Black ...</td>\n",
       "      <td>$9.99</td>\n",
       "      <td>Not Specified</td>\n",
       "      <td>70,626</td>\n",
       "    </tr>\n",
       "    <tr>\n",
       "      <th>4</th>\n",
       "      <td>Sony Wireless Headphones WH-CH510: Wireless Bl...</td>\n",
       "      <td>$38.00</td>\n",
       "      <td>$59.99</td>\n",
       "      <td>16,083</td>\n",
       "    </tr>\n",
       "    <tr>\n",
       "      <th>...</th>\n",
       "      <td>...</td>\n",
       "      <td>...</td>\n",
       "      <td>...</td>\n",
       "      <td>...</td>\n",
       "    </tr>\n",
       "    <tr>\n",
       "      <th>13</th>\n",
       "      <td>YouthWhisper Bone Conduction Headphones Blueto...</td>\n",
       "      <td>$54.99</td>\n",
       "      <td>Not Specified</td>\n",
       "      <td>927</td>\n",
       "    </tr>\n",
       "    <tr>\n",
       "      <th>14</th>\n",
       "      <td>Sony WH1000XM3 Noise Cancelling Headphones : W...</td>\n",
       "      <td>Not Specified</td>\n",
       "      <td>Not Specified</td>\n",
       "      <td>20,373</td>\n",
       "    </tr>\n",
       "    <tr>\n",
       "      <th>15</th>\n",
       "      <td>Jabra Evolve2 85 UC Wireless Headphones with L...</td>\n",
       "      <td>$499.00</td>\n",
       "      <td>Not Specified</td>\n",
       "      <td>527</td>\n",
       "    </tr>\n",
       "    <tr>\n",
       "      <th>0</th>\n",
       "      <td>Bluetooth Beanie Hat, Gifts for Men Women Chri...</td>\n",
       "      <td>$21.99</td>\n",
       "      <td>Not Specified</td>\n",
       "      <td>433</td>\n",
       "    </tr>\n",
       "    <tr>\n",
       "      <th>1</th>\n",
       "      <td>charlxee Kids Headphones with Microphone for S...</td>\n",
       "      <td>$18.88</td>\n",
       "      <td>$23.99</td>\n",
       "      <td>3,773</td>\n",
       "    </tr>\n",
       "  </tbody>\n",
       "</table>\n",
       "<p>306 rows × 4 columns</p>\n",
       "</div>"
      ],
      "text/plain": [
       "                                         Product_name      New_price  \\\n",
       "0   JBL Live 460NC - Wireless On-Ear Noise Cancell...         $64.95   \n",
       "1   Sony WH-1000XM4 Wireless Industry Leading Nois...        $248.00   \n",
       "2      JBL TUNE 500 - Wired On-Ear Headphones - Black         $19.95   \n",
       "3   Sony ZX Series Wired On-Ear Headphones, Black ...          $9.99   \n",
       "4   Sony Wireless Headphones WH-CH510: Wireless Bl...         $38.00   \n",
       "..                                                ...            ...   \n",
       "13  YouthWhisper Bone Conduction Headphones Blueto...         $54.99   \n",
       "14  Sony WH1000XM3 Noise Cancelling Headphones : W...  Not Specified   \n",
       "15  Jabra Evolve2 85 UC Wireless Headphones with L...        $499.00   \n",
       "0   Bluetooth Beanie Hat, Gifts for Men Women Chri...         $21.99   \n",
       "1   charlxee Kids Headphones with Microphone for S...         $18.88   \n",
       "\n",
       "        Old_price Number_of_reviews  \n",
       "0         $129.95               105  \n",
       "1         $348.00            24,263  \n",
       "2          $29.95             1,995  \n",
       "3   Not Specified            70,626  \n",
       "4          $59.99            16,083  \n",
       "..            ...               ...  \n",
       "13  Not Specified               927  \n",
       "14  Not Specified            20,373  \n",
       "15  Not Specified               527  \n",
       "0   Not Specified               433  \n",
       "1          $23.99             3,773  \n",
       "\n",
       "[306 rows x 4 columns]"
      ]
     },
     "execution_count": 20,
     "metadata": {},
     "output_type": "execute_result"
    }
   ],
   "source": [
    "product"
   ]
  },
  {
   "cell_type": "code",
   "execution_count": null,
   "id": "38d36791",
   "metadata": {},
   "outputs": [],
   "source": []
  }
 ],
 "metadata": {
  "kernelspec": {
   "display_name": "Python 3",
   "language": "python",
   "name": "python3"
  },
  "language_info": {
   "codemirror_mode": {
    "name": "ipython",
    "version": 3
   },
   "file_extension": ".py",
   "mimetype": "text/x-python",
   "name": "python",
   "nbconvert_exporter": "python",
   "pygments_lexer": "ipython3",
   "version": "3.8.8"
  }
 },
 "nbformat": 4,
 "nbformat_minor": 5
}
